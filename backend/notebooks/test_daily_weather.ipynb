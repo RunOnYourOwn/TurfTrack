{
 "cells": [
  {
   "cell_type": "code",
   "execution_count": 1,
   "metadata": {},
   "outputs": [],
   "source": [
    "import openmeteo_requests\n",
    "\n",
    "# Set up the client\n",
    "om = openmeteo_requests.Client()\n",
    "\n",
    "latitude = 40.7128\n",
    "longitude = -74.0060\n",
    "\n",
    "params = {\n",
    "    \"latitude\": latitude,\n",
    "    \"longitude\": longitude,\n",
    "    \"daily\": [\n",
    "        \"temperature_2m_max\",\n",
    "        \"temperature_2m_min\",\n",
    "        \"precipitation_sum\",\n",
    "        \"precipitation_probability_max\",\n",
    "        \"wind_speed_10m_max\",\n",
    "        \"wind_gusts_10m_max\",\n",
    "        \"wind_direction_10m_dominant\",\n",
    "        \"et0_fao_evapotranspiration\"\n",
    "    ],\n",
    "    \"timezone\": \"auto\"\n",
    "}\n",
    "\n",
    "responses = om.weather_api(\"https://api.open-meteo.com/v1/forecast\", params=params)\n",
    "response = responses[0]\n",
    "\n",
    "# Extract daily data\n",
    "daily = response.Daily()\n",
    "import pandas as pd\n",
    "\n",
    "# Build a DataFrame\n",
    "dates = pd.date_range(\n",
    "    start=pd.to_datetime(daily.Time(), unit=\"s\"),\n",
    "    end=pd.to_datetime(daily.TimeEnd(), unit=\"s\"),\n",
    "    freq=pd.Timedelta(seconds=daily.Interval()),\n",
    "    inclusive=\"left\"\n",
    ")\n",
    "data = {\n",
    "    \"date\": dates,\n",
    "    \"temperature_2m_max\": daily.Variables(0).ValuesAsNumpy(),\n",
    "    \"temperature_2m_min\": daily.Variables(1).ValuesAsNumpy(),\n",
    "    \"precipitation_sum\": daily.Variables(2).ValuesAsNumpy(),\n",
    "    \"precipitation_probability_max\": daily.Variables(3).ValuesAsNumpy(),\n",
    "    \"wind_speed_10m_max\": daily.Variables(4).ValuesAsNumpy(),\n",
    "    \"wind_gusts_10m_max\": daily.Variables(5).ValuesAsNumpy(),\n",
    "    \"wind_direction_10m_dominant\": daily.Variables(6).ValuesAsNumpy(),\n",
    "    \"et0_fao_evapotranspiration\": daily.Variables(7).ValuesAsNumpy(),\n",
    "}\n",
    "df = pd.DataFrame(data)"
   ]
  },
  {
   "cell_type": "code",
   "execution_count": null,
   "metadata": {},
   "outputs": [],
   "source": [
    "df"
   ]
  },
  {
   "cell_type": "code",
   "execution_count": 2,
   "metadata": {},
   "outputs": [
    {
     "name": "stdout",
     "output_type": "stream",
     "text": [
      "                 date  temperature_2m_max  temperature_2m_min  \\\n",
      "0 2025-06-09 04:00:00           18.681000           16.181000   \n",
      "1 2025-06-10 04:00:00           22.431000           16.330999   \n",
      "2 2025-06-11 04:00:00           27.326500           15.831000   \n",
      "3 2025-06-12 04:00:00           30.226500           20.126499   \n",
      "4 2025-06-13 04:00:00           25.726500           19.226500   \n",
      "5 2025-06-14 04:00:00           22.626499           17.626499   \n",
      "6 2025-06-15 04:00:00           19.826500           16.126499   \n",
      "\n",
      "   precipitation_sum  precipitation_probability_max  wind_speed_10m_max  \\\n",
      "0                0.0                           17.0           15.716793   \n",
      "1                1.5                           53.0           11.720751   \n",
      "2                0.0                            0.0           20.969805   \n",
      "3                3.4                           11.0           17.877180   \n",
      "4                0.2                           18.0           20.188908   \n",
      "5                0.0                           41.0           20.063339   \n",
      "6                0.3                           41.0           17.377226   \n",
      "\n",
      "   wind_gusts_10m_max  wind_direction_10m_dominant  et0_fao_evapotranspiration  \n",
      "0           33.119999                    68.354256                    1.203847  \n",
      "1           23.759998                   134.587860                    1.354828  \n",
      "2           42.119999                   252.203903                    6.392390  \n",
      "3           46.439999                   278.788818                    5.674593  \n",
      "4           21.599998                   102.269852                    5.869043  \n",
      "5           25.919998                    84.029701                    3.726940  \n",
      "6           22.680000                   123.111343                    2.444711  \n"
     ]
    }
   ],
   "source": [
    "print(df)"
   ]
  },
  {
   "cell_type": "code",
   "execution_count": null,
   "metadata": {},
   "outputs": [],
   "source": []
  },
  {
   "cell_type": "code",
   "execution_count": null,
   "metadata": {},
   "outputs": [],
   "source": []
  }
 ],
 "metadata": {
  "kernelspec": {
   "display_name": ".venv",
   "language": "python",
   "name": "python3"
  },
  "language_info": {
   "codemirror_mode": {
    "name": "ipython",
    "version": 3
   },
   "file_extension": ".py",
   "mimetype": "text/x-python",
   "name": "python",
   "nbconvert_exporter": "python",
   "pygments_lexer": "ipython3",
   "version": "3.12.9"
  }
 },
 "nbformat": 4,
 "nbformat_minor": 2
}
